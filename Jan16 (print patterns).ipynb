{
 "cells": [
  {
   "cell_type": "markdown",
   "id": "7095d871",
   "metadata": {},
   "source": [
    "#### Pattern 1(Left Half Pyramid)"
   ]
  },
  {
   "cell_type": "code",
   "execution_count": 2,
   "id": "3f9721c2",
   "metadata": {},
   "outputs": [
    {
     "name": "stdout",
     "output_type": "stream",
     "text": [
      "Enter the number of rows: 6\n",
      "*\n",
      "**\n",
      "***\n",
      "****\n",
      "*****\n",
      "******\n"
     ]
    }
   ],
   "source": [
    "n = int(input(\"Enter the number of rows: \"))\n",
    "\n",
    "# Nested loop to print the pattern\n",
    "for row in range(1, n + 1):  # Outer loop for rows\n",
    "    for col in range(1, row):  # Inner loop for columns\n",
    "        print(\"*\", end=\"\")  # Print '*' on the same line\n",
    "    print(\"*\")  #"
   ]
  },
  {
   "cell_type": "markdown",
   "id": "b10ca27b",
   "metadata": {},
   "source": [
    "#### Pattern 2(Right Half Pyramid)"
   ]
  },
  {
   "cell_type": "code",
   "execution_count": 7,
   "id": "31022129",
   "metadata": {},
   "outputs": [
    {
     "name": "stdout",
     "output_type": "stream",
     "text": [
      "Enter the number of rows: 6\n",
      "******\n",
      "*****\n",
      "****\n",
      "***\n",
      "**\n",
      "*\n"
     ]
    }
   ],
   "source": [
    "n = int(input(\"Enter the number of rows: \"))\n",
    "\n",
    "# Nested loop to print the pattern\n",
    "for row in range(1, n + 1):  # Outer loop for rows\n",
    "    for col in range(row-1, n-1):  # Inner loop for columns\n",
    "        print(\"*\", end=\"\")  # Print '*' on the same line\n",
    "    print(\"*\")  #"
   ]
  },
  {
   "cell_type": "markdown",
   "id": "b0204235",
   "metadata": {},
   "source": [
    "#### Pattern 3(Triangle Pattern)"
   ]
  },
  {
   "cell_type": "code",
   "execution_count": 27,
   "id": "f5a9108e",
   "metadata": {},
   "outputs": [
    {
     "name": "stdout",
     "output_type": "stream",
     "text": [
      "Enter the number of rows for the full downward triangle: 6\n",
      "      \n",
      "     *\n",
      "    ***\n",
      "   *****\n",
      "  *******\n",
      " *********\n",
      "***********\n"
     ]
    }
   ],
   "source": [
    "rows = int(input(\"Enter the number of rows for the full downward triangle: \"))\n",
    "for i in range(rows+1):  # Start from 'rows' and decrease to 1\n",
    "    spaces = ' ' * (rows - i)  # Add spaces for centering\n",
    "    stars = '*' * (2 * i - 1)  # Add stars (odd number in each row)\n",
    "    print(spaces + stars)"
   ]
  },
  {
   "cell_type": "markdown",
   "id": "48a6846b",
   "metadata": {},
   "source": [
    "#### Pattern 4(Downward Triangle Pattern)"
   ]
  },
  {
   "cell_type": "code",
   "execution_count": 24,
   "id": "aaca336c",
   "metadata": {},
   "outputs": [
    {
     "name": "stdout",
     "output_type": "stream",
     "text": [
      "Enter the number of rows for the full downward triangle: 6\n",
      "***********\n",
      " *********\n",
      "  *******\n",
      "   *****\n",
      "    ***\n",
      "     *\n"
     ]
    }
   ],
   "source": [
    "rows = int(input(\"Enter the number of rows for the full downward triangle: \"))\n",
    "for i in range(rows,0, -1):  # Start from 'rows' and decrease to 1\n",
    "    spaces = ' ' * (rows - i)  # Add spaces for centering\n",
    "    stars = '*' * (2 * i - 1)  # Add stars (odd number in each row)\n",
    "    print(spaces + stars)"
   ]
  },
  {
   "cell_type": "markdown",
   "id": "5d1bc9e7",
   "metadata": {},
   "source": [
    "#### Pattern 5(Half Pyramid Pattern of Numbers)"
   ]
  },
  {
   "cell_type": "code",
   "execution_count": 35,
   "id": "79c6f1c5",
   "metadata": {},
   "outputs": [
    {
     "name": "stdout",
     "output_type": "stream",
     "text": [
      "Enter the number of rows: 6\n",
      "1 \n",
      "1 2 \n",
      "1 2 3 \n",
      "1 2 3 4 \n",
      "1 2 3 4 5 \n",
      "1 2 3 4 5 6 \n"
     ]
    }
   ],
   "source": [
    "row = int(input(\"Enter the number of rows: \"))\n",
    "\n",
    "# Nested loop to print the pattern\n",
    "for row in range(1, row + 1):  # Outer loop for rows\n",
    "    for col in range(1, row + 1):  # Inner loop for columns\n",
    "        print(col, end=\" \")\n",
    "    print(\"\")"
   ]
  },
  {
   "cell_type": "markdown",
   "id": "f91b4373",
   "metadata": {},
   "source": [
    "#### Pattern 6(Simple Number Triangle Pattern)"
   ]
  },
  {
   "cell_type": "code",
   "execution_count": 36,
   "id": "6fec77d9",
   "metadata": {},
   "outputs": [
    {
     "name": "stdout",
     "output_type": "stream",
     "text": [
      "Enter the number of rows: 6\n",
      "1 \n",
      "2 2 \n",
      "3 3 3 \n",
      "4 4 4 4 \n",
      "5 5 5 5 5 \n",
      "6 6 6 6 6 6 \n"
     ]
    }
   ],
   "source": [
    "row = int(input(\"Enter the number of rows: \"))\n",
    "\n",
    "# Nested loop to print the pattern\n",
    "for row in range(1, row + 1):  # Outer loop for rows\n",
    "    for col in range(1, row + 1):  # Inner loop for columns\n",
    "        print(row, end=\" \")  \n",
    "    print(\"\")"
   ]
  },
  {
   "cell_type": "markdown",
   "id": "afadf68d",
   "metadata": {},
   "source": [
    "#### Pattern 7(Inverted Half Triangle of Numbers)"
   ]
  },
  {
   "cell_type": "code",
   "execution_count": 46,
   "id": "ee258b68",
   "metadata": {},
   "outputs": [
    {
     "name": "stdout",
     "output_type": "stream",
     "text": [
      "Enter the number of rows: 6\n",
      "1 1 1 1 1 1 \n",
      "2 2 2 2 2 \n",
      "3 3 3 3 \n",
      "4 4 4 \n",
      "5 5 \n",
      "6 \n"
     ]
    }
   ],
   "source": [
    "n = int(input(\"Enter the number of rows: \"))\n",
    "\n",
    "# Nested loop to print the pattern\n",
    "for row in range(1, row + 1):  # Outer loop for rows\n",
    "    for col in range(row-1, n):  # Inner loop for columns\n",
    "        print(row, end=\" \") \n",
    "    print(\"\")"
   ]
  },
  {
   "cell_type": "markdown",
   "id": "87773ae3",
   "metadata": {},
   "source": [
    "#### Pattern 8(Pattern 7 in desc order)"
   ]
  },
  {
   "cell_type": "code",
   "execution_count": 55,
   "id": "77a43984",
   "metadata": {},
   "outputs": [
    {
     "name": "stdout",
     "output_type": "stream",
     "text": [
      "Enter the number of rows: 6\n",
      "6 6 6 6 6 6 \n",
      "5 5 5 5 5 \n",
      "4 4 4 4 \n",
      "3 3 3 \n",
      "2 2 \n",
      "1 \n"
     ]
    }
   ],
   "source": [
    "n = int(input(\"Enter the number of rows: \"))\n",
    "\n",
    "# Nested loop to print the pattern\n",
    "for row in range(n, 0 , -1):  # Outer loop for rows\n",
    "    for col in range(0, row):  # Inner loop for columns\n",
    "        print(row, end=\" \") \n",
    "    print(\"\")"
   ]
  },
  {
   "cell_type": "markdown",
   "id": "1435a654",
   "metadata": {},
   "source": [
    "#### Pattern 9(Inverted Half Pyramid of the Same Digit)"
   ]
  },
  {
   "cell_type": "code",
   "execution_count": 68,
   "id": "793e278b",
   "metadata": {},
   "outputs": [
    {
     "name": "stdout",
     "output_type": "stream",
     "text": [
      "Enter the number of rows: 6\n",
      "666666\n",
      "66666\n",
      "6666\n",
      "666\n",
      "66\n",
      "6\n"
     ]
    }
   ],
   "source": [
    "n = int(input(\"Enter the number of rows: \"))\n",
    "\n",
    "# Nested loop to print the pattern\n",
    "for row in range(n, 0 , -1):  # Outer loop for rows\n",
    "    print(f'{n}'*row) "
   ]
  },
  {
   "cell_type": "markdown",
   "id": "a056c66f",
   "metadata": {},
   "source": [
    "#### Pattern 10(Reverse Pyramid of Numbers)"
   ]
  },
  {
   "cell_type": "code",
   "execution_count": 71,
   "id": "6dd7a582",
   "metadata": {},
   "outputs": [
    {
     "name": "stdout",
     "output_type": "stream",
     "text": [
      "Enter the number of rows: 6\n",
      "1 \n",
      "2 1 \n",
      "3 2 1 \n",
      "4 3 2 1 \n",
      "5 4 3 2 1 \n"
     ]
    }
   ],
   "source": [
    "n = int(input(\"Enter the number of rows: \"))\n",
    "\n",
    "# Nested loop to print the pattern\n",
    "for row in range(1, n):  # Outer loop for rows\n",
    "    for col in range(row, 0 , -1):  # Inner loop for columns\n",
    "        print(col, end=\" \") \n",
    "    print(\"\")"
   ]
  },
  {
   "cell_type": "code",
   "execution_count": null,
   "id": "f53042d8",
   "metadata": {},
   "outputs": [],
   "source": []
  }
 ],
 "metadata": {
  "kernelspec": {
   "display_name": "Python 3 (ipykernel)",
   "language": "python",
   "name": "python3"
  },
  "language_info": {
   "codemirror_mode": {
    "name": "ipython",
    "version": 3
   },
   "file_extension": ".py",
   "mimetype": "text/x-python",
   "name": "python",
   "nbconvert_exporter": "python",
   "pygments_lexer": "ipython3",
   "version": "3.11.7"
  }
 },
 "nbformat": 4,
 "nbformat_minor": 5
}
