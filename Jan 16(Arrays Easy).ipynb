{
 "cells": [
  {
   "cell_type": "markdown",
   "id": "13e30aee",
   "metadata": {},
   "source": [
    "#### Problem 1(Second Largest Number)"
   ]
  },
  {
   "cell_type": "code",
   "execution_count": 3,
   "id": "018a557b",
   "metadata": {},
   "outputs": [],
   "source": [
    "def second(arr):\n",
    "    first = None\n",
    "    second = None\n",
    "    \n",
    "    for num in arr:\n",
    "        if first is None or num>first:\n",
    "            second = first\n",
    "            first = num\n",
    "            \n",
    "        elif second is None or num>second:\n",
    "            second = num\n",
    "            \n",
    "    return second"
   ]
  },
  {
   "cell_type": "code",
   "execution_count": 4,
   "id": "b70396f3",
   "metadata": {},
   "outputs": [
    {
     "data": {
      "text/plain": [
       "86"
      ]
     },
     "execution_count": 4,
     "metadata": {},
     "output_type": "execute_result"
    }
   ],
   "source": [
    "arr1 = [73, 88, 70, 86, 38, 73, 78, 29, 32, 43]\n",
    "\n",
    "second(arr1)"
   ]
  },
  {
   "cell_type": "markdown",
   "id": "991768d9",
   "metadata": {},
   "source": [
    "####  Problem 2(Third Largest Number)"
   ]
  },
  {
   "cell_type": "code",
   "execution_count": 12,
   "id": "bfc44598",
   "metadata": {},
   "outputs": [],
   "source": [
    "def third(arrr):\n",
    "    first= second= third = None\n",
    "    \n",
    "    for num in arrr:\n",
    "        if first is None or num>first:\n",
    "            second= first\n",
    "            first= num\n",
    "        elif second is None or num>second:\n",
    "            third= second\n",
    "            second= num\n",
    "        elif third is None or num>third:\n",
    "            third= num\n",
    "    return third \n",
    "    "
   ]
  },
  {
   "cell_type": "code",
   "execution_count": 13,
   "id": "161138e6",
   "metadata": {},
   "outputs": [
    {
     "data": {
      "text/plain": [
       "78"
      ]
     },
     "execution_count": 13,
     "metadata": {},
     "output_type": "execute_result"
    }
   ],
   "source": [
    "arr2 = [73, 88, 70, 86, 38, 73, 78, 29, 32, 43]\n",
    "third(arr2)"
   ]
  },
  {
   "cell_type": "markdown",
   "id": "71539006",
   "metadata": {},
   "source": [
    "#### Problem 3(Three Great Cadndidates)\n",
    "\n",
    "Input:  [10, 3, 5, 6, 20]\n",
    "Output: 1200\n",
    "\n",
    "Explanation: Multiplication of 10, 6 and 20\n",
    "\n",
    "\n",
    "\n",
    "Input:  [-10, -3, -5, -6, -20]\n",
    "Output: -90\n",
    "\n",
    "\n",
    "\n",
    "Input:  [1, -4, 3, -6, 7, 0]\n",
    "Output: 168"
   ]
  },
  {
   "cell_type": "code",
   "execution_count": 20,
   "id": "f91498ba",
   "metadata": {},
   "outputs": [],
   "source": [
    "def triplet(nums):\n",
    "    max1 = max2 = max3 = float('-inf')  # For the largest three numbers\n",
    "    min1 = min2 = float('inf')  # For the smallest two numbers\n",
    "    \n",
    "    for num in nums:\n",
    "        if num>max1:\n",
    "            max3=max2\n",
    "            max2=max1\n",
    "            max1=num\n",
    "        elif num>max2:\n",
    "            max3=max2\n",
    "            max2=num\n",
    "        elif num>max3:\n",
    "            max3=num\n",
    "            \n",
    "        if num<min1:\n",
    "            min2=min1\n",
    "            min1=num\n",
    "        elif num<min2:\n",
    "            min2=num\n",
    "            \n",
    "        \n",
    "    \n",
    "    product1 = (max1*max2*max3)\n",
    "    product2 = (max1*min1*min2)\n",
    "    \n",
    "    return max(product1, product2)"
   ]
  },
  {
   "cell_type": "code",
   "execution_count": 21,
   "id": "147e020b",
   "metadata": {},
   "outputs": [
    {
     "name": "stdout",
     "output_type": "stream",
     "text": [
      "1200\n",
      "-90\n",
      "168\n"
     ]
    }
   ],
   "source": [
    "Input1= [10, 3, 5, 6, 20]\n",
    "Input2= [-10, -3, -5, -6, -20]\n",
    "Input3= [1, -4, 3, -6, 7, 0] \n",
    "\n",
    "print(triplet(Input1))\n",
    "print(triplet(Input2))\n",
    "print(triplet(Input3))"
   ]
  },
  {
   "cell_type": "markdown",
   "id": "04c74a9e",
   "metadata": {},
   "source": [
    "#### Problem 4(Maximum consecutive one’s (or zeros) in a binary array)\n",
    "\n",
    "Examples : \n",
    "\n",
    "Input: arr[] = {1, 1, 0, 0, 1, 0, 1, 0, 1, 1, 1, 1}\n",
    "\n",
    "Output: 4\n",
    "Explanation: The maximum number of consecutive 1’s in the array is 4 from index 8-11.\n",
    "\n",
    "\n",
    "Input: arr[] = {0, 0, 1, 0, 1, 0, 1, 0, 1, 0, 1}\n",
    "\n",
    "Output: 1\n",
    "Explanation: The maximum number of consecutive 0’s in the array is 1 from index 0-1.\n",
    "\n"
   ]
  },
  {
   "cell_type": "code",
   "execution_count": 22,
   "id": "5281170f",
   "metadata": {},
   "outputs": [],
   "source": [
    "def get_max__len(arr):\n",
    "    result = 0\n",
    "    count = 0\n",
    "    \n",
    "    for i in range(len(arr)):\n",
    "        if (arr[i]==0):\n",
    "            count=0\n",
    "\n",
    "        else:\n",
    "            count+=1\n",
    "            result = max(result, count)\n",
    "            \n",
    "    return result\n",
    "            "
   ]
  },
  {
   "cell_type": "code",
   "execution_count": 24,
   "id": "2469f19a",
   "metadata": {},
   "outputs": [
    {
     "data": {
      "text/plain": [
       "4"
      ]
     },
     "execution_count": 24,
     "metadata": {},
     "output_type": "execute_result"
    }
   ],
   "source": [
    "arr_cnt = [1, 1, 0, 0, 1, 0, 1, 0, 1, 1, 1, 1]\n",
    "get_max__len(arr_cnt)"
   ]
  },
  {
   "cell_type": "markdown",
   "id": "325ac87f",
   "metadata": {},
   "source": [
    "#### Problem 5\n",
    "\n",
    "Given an array of integers arr[], the task is to move all the zeros to the end of the array while maintaining the relative order of all non-zero elements.\n",
    "\n",
    "Examples: \n",
    "\n",
    "Input: arr[] = [1, 2, 0, 4, 3, 0, 5, 0]\n",
    "    \n",
    "Output: arr[] = [1, 2, 4, 3, 5, 0, 0, 0]\n",
    "Explanation: There are three 0s that are moved to the end."
   ]
  },
  {
   "cell_type": "code",
   "execution_count": 8,
   "id": "e2557c7c",
   "metadata": {},
   "outputs": [],
   "source": [
    "def move_zeros(arr):\n",
    "    last_non_zero_index = 0\n",
    "    \n",
    "    for i in range(len(arr)):\n",
    "        if arr[i] !=0:\n",
    "                    \n",
    "            # Move the non-zero element to the last_non_zero_index\n",
    "            arr[last_non_zero_index] = arr[i]\n",
    "            last_non_zero_index +=1\n",
    "        \n",
    "     # After all non-zero elements are moved, fill the rest of the array with zeros\n",
    "        \n",
    "    for i in range(last_non_zero_index, len(arr)):\n",
    "        arr[i] = 0\n",
    "        \n",
    "    return arr       "
   ]
  },
  {
   "cell_type": "code",
   "execution_count": 9,
   "id": "acfb12fc",
   "metadata": {},
   "outputs": [
    {
     "data": {
      "text/plain": [
       "[1, 2, 4, 3, 5, 0, 0, 0]"
      ]
     },
     "execution_count": 9,
     "metadata": {},
     "output_type": "execute_result"
    }
   ],
   "source": [
    "arr = [1, 2, 0, 4, 3, 0, 5, 0]\n",
    "\n",
    "move_zeros(arr)"
   ]
  },
  {
   "cell_type": "markdown",
   "id": "bca3cd5b",
   "metadata": {},
   "source": [
    "#### Problem 6(Reverse an Array in groups of given size)\n",
    "\n",
    "Given an array arr[] and an integer K, the task is to reverse every subarray formed by consecutive K elements.\n",
    "\n",
    "Examples: \n",
    "\n",
    "Input: arr[] = [1, 2, 3, 4, 5, 6, 7, 8, 9], K = 3 \n",
    "\n",
    "Output: 3, 2, 1, 6, 5, 4, 9, 8, 7\n",
    "\n",
    "\n",
    "Input: arr[] = [1, 2, 3, 4, 5, 6, 7, 8], K = 5 \n",
    "\n",
    "Output: 5, 4, 3, 2, 1, 8, 7, 6\n"
   ]
  },
  {
   "cell_type": "code",
   "execution_count": 9,
   "id": "4f7ad6b2",
   "metadata": {},
   "outputs": [],
   "source": [
    "def reverse_grp(arr,k):\n",
    "    n = len(arr)\n",
    "    for i in range(0,n,k):\n",
    "        start = i\n",
    "        end = min(i+k-1, n-1)\n",
    "        while start<end:\n",
    "            arr[start], arr[end]= arr[end],arr[start]\n",
    "            \n",
    "            start+=1\n",
    "            end-=1\n",
    "    return arr"
   ]
  },
  {
   "cell_type": "code",
   "execution_count": 10,
   "id": "201d086e",
   "metadata": {},
   "outputs": [
    {
     "name": "stdout",
     "output_type": "stream",
     "text": [
      "[3, 2, 1, 6, 5, 4, 9, 8, 7]\n",
      "[5, 4, 3, 2, 1, 8, 7, 6]\n"
     ]
    }
   ],
   "source": [
    "# Test Case 1\n",
    "arr1 = [1, 2, 3, 4, 5, 6, 7, 8, 9]\n",
    "K1 = 3\n",
    "print(reverse_grp(arr1, K1))\n",
    "\n",
    "# Test Case 2\n",
    "arr2 = [1, 2, 3, 4, 5, 6, 7, 8]\n",
    "K2 = 5\n",
    "print(reverse_grp(arr2, K2))"
   ]
  },
  {
   "cell_type": "markdown",
   "id": "41b1ee7a",
   "metadata": {},
   "source": [
    "#### Problem 7(Finding sum of digits of a number until sum becomes single digit, i.e. digital sum)\n",
    "\n",
    "Examples:\n",
    "\n",
    "Input: n = 1234 \n",
    "Output: 1 \n",
    "\n",
    "Explanation:\n",
    "\n",
    "Step 1: 1 + 2 + 3 + 4 = 10 \n",
    "\n",
    "Step 2: 1 + 0 = 1\n",
    "\n",
    "\n",
    "Input: n = 5674\n",
    "Output: 4\n",
    "\n",
    "Explanation: \n",
    "\n",
    "Step 1: 5 + 6 + 7 + 4 = 22 \n",
    "\n",
    "Step 2: 2 + 2 = 4"
   ]
  },
  {
   "cell_type": "code",
   "execution_count": 15,
   "id": "b87a2970",
   "metadata": {},
   "outputs": [],
   "source": [
    "def find_digit_sum(n):\n",
    "    while n>=10:  # Continue until the number is a single digit\n",
    "        digit_sum=0\n",
    "        \n",
    "        while n>0:\n",
    "            digit_sum += n%10 # Add the last digit\n",
    "            n//=10  # Remove the last digit\n",
    "            \n",
    "        n=digit_sum # Update n to the sum of its digits\n",
    "    return n        \n",
    "    "
   ]
  },
  {
   "cell_type": "code",
   "execution_count": 17,
   "id": "b25b43e1",
   "metadata": {},
   "outputs": [
    {
     "data": {
      "text/plain": [
       "2"
      ]
     },
     "execution_count": 17,
     "metadata": {},
     "output_type": "execute_result"
    }
   ],
   "source": [
    "find_digit_sum(1235)"
   ]
  },
  {
   "cell_type": "markdown",
   "id": "85644cae",
   "metadata": {},
   "source": [
    "### Optimized Solution"
   ]
  },
  {
   "cell_type": "code",
   "execution_count": 18,
   "id": "5691710e",
   "metadata": {},
   "outputs": [],
   "source": [
    "def find_digital_root(n):\n",
    "    if n == 0:\n",
    "        return 0\n",
    "    return 1 + (n - 1) % 9"
   ]
  },
  {
   "cell_type": "code",
   "execution_count": 19,
   "id": "967b1fd0",
   "metadata": {},
   "outputs": [
    {
     "data": {
      "text/plain": [
       "1"
      ]
     },
     "execution_count": 19,
     "metadata": {},
     "output_type": "execute_result"
    }
   ],
   "source": [
    "find_digital_root(1234)"
   ]
  },
  {
   "cell_type": "markdown",
   "id": "db4aa38d",
   "metadata": {},
   "source": [
    "#### Problem 8(Remove duplicates from Sorted Array)"
   ]
  },
  {
   "cell_type": "code",
   "execution_count": 26,
   "id": "8bc36a1a",
   "metadata": {},
   "outputs": [],
   "source": [
    "def remove_duplicates(nums):\n",
    "    if not nums:\n",
    "        return 0\n",
    "    \n",
    "    j = 0\n",
    "    for i in range(1, len(nums)):\n",
    "        if nums[i] != nums[j]:\n",
    "            j+=1\n",
    "            nums[j] = nums[i]\n",
    "            \n",
    "    return nums[:j+1]"
   ]
  },
  {
   "cell_type": "code",
   "execution_count": 27,
   "id": "c3918179",
   "metadata": {},
   "outputs": [
    {
     "data": {
      "text/plain": [
       "[1, 2, 3, 4]"
      ]
     },
     "execution_count": 27,
     "metadata": {},
     "output_type": "execute_result"
    }
   ],
   "source": [
    "nums = [1, 1, 2, 2, 3, 4, 4]\n",
    "remove_duplicates(nums)"
   ]
  },
  {
   "cell_type": "code",
   "execution_count": 28,
   "id": "4c0d854e",
   "metadata": {},
   "outputs": [],
   "source": [
    "#solution 2\n",
    "\n",
    "def rem_dup(nums):\n",
    "    unique_nums = []\n",
    "    \n",
    "    for num in nums:\n",
    "        if not unique_nums or num != unique_nums[-1]:\n",
    "            unique_nums.append(num)\n",
    "            \n",
    "    return unique_nums"
   ]
  },
  {
   "cell_type": "code",
   "execution_count": 29,
   "id": "543790c1",
   "metadata": {},
   "outputs": [
    {
     "data": {
      "text/plain": [
       "[1, 2, 3, 4, 5, 6, 7]"
      ]
     },
     "execution_count": 29,
     "metadata": {},
     "output_type": "execute_result"
    }
   ],
   "source": [
    "nums2 = [1, 1, 2, 2, 3, 4, 4, 5, 6, 7, 7]\n",
    "rem_dup(nums2)"
   ]
  },
  {
   "cell_type": "markdown",
   "id": "67e33096",
   "metadata": {},
   "source": [
    "#### Problem 9(Leaders in an array)\n",
    "\n",
    "Examples:\n",
    "\n",
    "Input: arr[] = [16, 17, 4, 3, 5, 2]\n",
    "\n",
    "Output: [17 5 2]\n",
    "\n",
    "Explanation: 17 is greater than all the elements to its right i.e., [4, 3, 5, 2], therefore 17 is a leader. 5 is greater than all the elements to its right i.e., [2], therefore 5 is a leader. 2 has no element to its right, therefore 2 is a leader."
   ]
  },
  {
   "cell_type": "code",
   "execution_count": 40,
   "id": "21273f8c",
   "metadata": {},
   "outputs": [],
   "source": [
    "def find_leaders(arr):\n",
    "    n = len(arr)\n",
    "    leaders=[]\n",
    "    max_right= arr[-1] #always a leader\n",
    "    leaders.append(max_right)\n",
    "    \n",
    "    for i in range(n-2, -1, -1):  # Traverse the array from right to left\n",
    "        if arr[i] > max_right:\n",
    "            max_right = arr[i]\n",
    "            leaders.append(max_right)\n",
    "            \n",
    "    leaders.reverse()    # Reverse the leaders list to maintain the correct order   \n",
    "    return leaders"
   ]
  },
  {
   "cell_type": "code",
   "execution_count": 41,
   "id": "25b82354",
   "metadata": {},
   "outputs": [
    {
     "data": {
      "text/plain": [
       "[17, 5, 2]"
      ]
     },
     "execution_count": 41,
     "metadata": {},
     "output_type": "execute_result"
    }
   ],
   "source": [
    "arr = [16, 17, 4, 3, 5, 2]\n",
    "find_leaders(arr)"
   ]
  },
  {
   "cell_type": "code",
   "execution_count": null,
   "id": "3ac2b0ca",
   "metadata": {},
   "outputs": [],
   "source": []
  }
 ],
 "metadata": {
  "kernelspec": {
   "display_name": "Python 3 (ipykernel)",
   "language": "python",
   "name": "python3"
  },
  "language_info": {
   "codemirror_mode": {
    "name": "ipython",
    "version": 3
   },
   "file_extension": ".py",
   "mimetype": "text/x-python",
   "name": "python",
   "nbconvert_exporter": "python",
   "pygments_lexer": "ipython3",
   "version": "3.11.7"
  }
 },
 "nbformat": 4,
 "nbformat_minor": 5
}
